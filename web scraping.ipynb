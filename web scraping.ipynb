{
 "cells": [
  {
   "cell_type": "code",
   "execution_count": 1,
   "id": "b70e3eb9",
   "metadata": {
    "scrolled": true
   },
   "outputs": [
    {
     "data": {
      "text/plain": [
       "['<!DOCTYPE html>',\n",
       " '<html xmlns:fb=\"http://www.facebook.com/2008/fbml\" xmlns:og=\"http://ogp.me/ns#\">',\n",
       " ' <head>',\n",
       " '  <script type=\"text/javascript\">',\n",
       " '   var ue_t0=ue_t0||+new Date();',\n",
       " '  </script>',\n",
       " '  <script type=\"text/javascript\">',\n",
       " '   window.ue_ihb = (window.ue_ihb || window.ueinit || 0) + 1;',\n",
       " 'if (window.ue_ihb === 1) {',\n",
       " '',\n",
       " 'var ue_csm = window,',\n",
       " '    ue_hob = +new Date();',\n",
       " '(function(d){var e=d.ue=d.ue||{},f=Date.now||function(){return+new Date};e.d=function(b){return f()-(b?0:d.ue_t0)};e.stub=function(b,a){if(!b[a]){var c=[];b[a]=function(){c.push([c.slice.call(arguments),e.d(),d.ue_id])};b[a].replay=function(b){for(var a;a=c.shift();)b(a[0],a[1],a[2])};b[a].isStub=1}};e.exec=function(b,a){return function(){try{return b.apply(this,arguments)}catch(c){ueLogError(c,{attribution:a||\"undefined\",logLevel:\"WARN\"})}}}})(ue_csm);',\n",
       " '',\n",
       " '',\n",
       " \"    var ue_err_chan = 'jserr';\",\n",
       " '(function(d,e){function h(f,b){if(!(a.ec>a.mxe)&&f){a.ter.push(f);b=b||{};var c=f.logLevel||b.logLevel;c&&c!==k&&c!==m&&c!==n&&c!==p||a.ec++;c&&c!=k||a.ecf++;b.pageURL=\"\"+(e.location?e.location.href:\"\");b.logLevel=c;b.attribution=f.attribution||b.attribution;a.erl.push({ex:f,info:b})}}function l(a,b,c,e,g){d.ueLogError({m:a,f:b,l:c,c:\"\"+e,err:g,fromOnError:1,args:arguments},g?{attribution:g.attribution,logLevel:g.logLevel}:void 0);return!1}var k=\"FATAL\",m=\"ERROR\",n=\"WARN\",p=\"DOWNGRADED\",a={ec:0,ecf:0,',\n",
       " 'pec:0,ts:0,erl:[],ter:[],buffer:[],mxe:50,startTimer:function(){a.ts++;setInterval(function(){d.ue&&a.pec<a.ec&&d.uex(\"at\");a.pec=a.ec},1E4)}};l.skipTrace=1;h.skipTrace=1;h.isStub=1;d.ueLogError=h;d.ue_err=a;e.onerror=l})(ue_csm,window);',\n",
       " '',\n",
       " '',\n",
       " \"var ue_id = 'BQWZRBFAM81S7K6ZBPJP',\",\n",
       " '    ue_url,',\n",
       " '    ue_navtiming = 1,',\n",
       " \"    ue_mid = 'A1EVAM02EL8SFB',\",\n",
       " \"    ue_sid = '142-4733486-5366807',\",\n",
       " \"    ue_sn = 'www.imdb.com',\",\n",
       " \"    ue_furl = 'fls-na.amazon.com',\",\n",
       " \"    ue_surl = 'https://unagi-na.amazon.com/1/events/com.amazon.csm.nexusclient.prod',\",\n",
       " '    ue_int = 0,',\n",
       " '    ue_fcsn = 1,']"
      ]
     },
     "execution_count": 1,
     "metadata": {},
     "output_type": "execute_result"
    }
   ],
   "source": [
    "from urllib.request import urlopen\n",
    "from bs4 import BeautifulSoup as bs_imdb\n",
    "\n",
    "url_imdb ='https://assets-datascientest.s3.eu-west-1.amazonaws.com/IMDB_en.html'\n",
    "page_imdb = urlopen(url_imdb)\n",
    "soup_im =bs_imdb(page_imdb, 'html.parser')\n",
    "\n",
    "# soup_im.findAll(\"div\")\n",
    "soup_im.prettify().splitlines()[0:30]"
   ]
  },
  {
   "cell_type": "code",
   "execution_count": 2,
   "id": "787d892a",
   "metadata": {
    "scrolled": false
   },
   "outputs": [],
   "source": [
    "films_imdb = soup_im.find('tbody', attrs = {'class': \"lister-list\"}).find_all('tr')\n",
    "#films_imdb"
   ]
  },
  {
   "cell_type": "code",
   "execution_count": 53,
   "id": "f5c37724",
   "metadata": {},
   "outputs": [
    {
     "name": "stdout",
     "output_type": "stream",
     "text": [
      "7,3\n"
     ]
    }
   ],
   "source": [
    "films_imdb1 = soup_im.find('td', attrs = {'class': \"ratingColumn imdbRating\"}).strong\n",
    "for film_imdb1 in films_imdb1:\n",
    "     print(film_imdb1.text)"
   ]
  },
  {
   "cell_type": "code",
   "execution_count": 54,
   "id": "e54b562d",
   "metadata": {},
   "outputs": [
    {
     "name": "stdout",
     "output_type": "stream",
     "text": [
      "<strong title=\"6,5 based on 82 101 user ratings\">6,5</strong>\n"
     ]
    }
   ],
   "source": [
    "for film_imdb in films_imdb:\n",
    "    rating=film_imdb.find('td', {'class':\"ratingColumn imdbRating\"}).strong\n",
    "print(rating)"
   ]
  },
  {
   "cell_type": "code",
   "execution_count": 60,
   "id": "824a00be",
   "metadata": {
    "scrolled": true
   },
   "outputs": [
    {
     "data": {
      "text/html": [
       "<div>\n",
       "<style scoped>\n",
       "    .dataframe tbody tr th:only-of-type {\n",
       "        vertical-align: middle;\n",
       "    }\n",
       "\n",
       "    .dataframe tbody tr th {\n",
       "        vertical-align: top;\n",
       "    }\n",
       "\n",
       "    .dataframe thead th {\n",
       "        text-align: right;\n",
       "    }\n",
       "</style>\n",
       "<table border=\"1\" class=\"dataframe\">\n",
       "  <thead>\n",
       "    <tr style=\"text-align: right;\">\n",
       "      <th></th>\n",
       "      <th>Title</th>\n",
       "      <th>release_years</th>\n",
       "      <th>rating</th>\n",
       "    </tr>\n",
       "  </thead>\n",
       "  <tbody>\n",
       "    <tr>\n",
       "      <th>0</th>\n",
       "      <td>Glass Onion: une histoire à couteaux tirés</td>\n",
       "      <td>2022</td>\n",
       "      <td>[7,3]</td>\n",
       "    </tr>\n",
       "    <tr>\n",
       "      <th>1</th>\n",
       "      <td>Avatar: la voie de l'eau</td>\n",
       "      <td>2022</td>\n",
       "      <td>[7,9]</td>\n",
       "    </tr>\n",
       "    <tr>\n",
       "      <th>2</th>\n",
       "      <td>À couteaux tirés</td>\n",
       "      <td>2019</td>\n",
       "      <td>[7,9]</td>\n",
       "    </tr>\n",
       "    <tr>\n",
       "      <th>3</th>\n",
       "      <td>Babylon</td>\n",
       "      <td>2022</td>\n",
       "      <td>[7,4]</td>\n",
       "    </tr>\n",
       "    <tr>\n",
       "      <th>4</th>\n",
       "      <td>Avatar</td>\n",
       "      <td>2009</td>\n",
       "      <td>[7,9]</td>\n",
       "    </tr>\n",
       "    <tr>\n",
       "      <th>...</th>\n",
       "      <td>...</td>\n",
       "      <td>...</td>\n",
       "      <td>...</td>\n",
       "    </tr>\n",
       "    <tr>\n",
       "      <th>95</th>\n",
       "      <td>Les Goonies</td>\n",
       "      <td>1985</td>\n",
       "      <td>[7,7]</td>\n",
       "    </tr>\n",
       "    <tr>\n",
       "      <th>96</th>\n",
       "      <td>Mourir peut attendre</td>\n",
       "      <td>2021</td>\n",
       "      <td>[7,3]</td>\n",
       "    </tr>\n",
       "    <tr>\n",
       "      <th>97</th>\n",
       "      <td>Interstellar</td>\n",
       "      <td>2014</td>\n",
       "      <td>[8,6]</td>\n",
       "    </tr>\n",
       "    <tr>\n",
       "      <th>98</th>\n",
       "      <td>Dune</td>\n",
       "      <td>2021</td>\n",
       "      <td>[8,0]</td>\n",
       "    </tr>\n",
       "    <tr>\n",
       "      <th>99</th>\n",
       "      <td>Last Christmas</td>\n",
       "      <td>2019</td>\n",
       "      <td>[6,5]</td>\n",
       "    </tr>\n",
       "  </tbody>\n",
       "</table>\n",
       "<p>100 rows × 3 columns</p>\n",
       "</div>"
      ],
      "text/plain": [
       "                                         Title release_years rating\n",
       "0   Glass Onion: une histoire à couteaux tirés          2022  [7,3]\n",
       "1                     Avatar: la voie de l'eau          2022  [7,9]\n",
       "2                             À couteaux tirés          2019  [7,9]\n",
       "3                                      Babylon          2022  [7,4]\n",
       "4                                       Avatar          2009  [7,9]\n",
       "..                                         ...           ...    ...\n",
       "95                                 Les Goonies          1985  [7,7]\n",
       "96                        Mourir peut attendre          2021  [7,3]\n",
       "97                                Interstellar          2014  [8,6]\n",
       "98                                        Dune          2021  [8,0]\n",
       "99                              Last Christmas          2019  [6,5]\n",
       "\n",
       "[100 rows x 3 columns]"
      ]
     },
     "execution_count": 60,
     "metadata": {},
     "output_type": "execute_result"
    }
   ],
   "source": [
    "import pandas as pd\n",
    "title = []\n",
    "release_years = []\n",
    "rating = []\n",
    "\n",
    "for film_imdb in films_imdb:\n",
    "    title.append(film_imdb.find('td', {'class': 'titleColumn'}).a.text)\n",
    "    release_years.append(film_imdb.find('span', {'class': 'secondaryInfo'}).text.strip('()'))\n",
    "    rating.append(film_imdb.find('td', {'class': \"ratingColumn imdbRating\"}).strong)                    \n",
    "                         \n",
    "df_imdb = pd.DataFrame(list(zip(title, release_years,rating)), columns=[\"Title\", \"release_years\",\"rating\"])\n",
    "    \n",
    "#     writer.append(bestseller.find('div', {'class': 'a-row a-size-small'}).text)\n",
    "    \n",
    "#     price.append(bestseller.find('span', {'class': \"p13n-sc-price\"}).text)\n",
    "\n",
    "#books = pd.DataFrame(list(zip(title, writer, price)), columns=[\"Title\", \"Writer\", \"Price\"])\n",
    "\n",
    "df_imdb\n",
    "\n"
   ]
  },
  {
   "cell_type": "code",
   "execution_count": 47,
   "id": "6d43795e",
   "metadata": {},
   "outputs": [
    {
     "data": {
      "text/html": [
       "<div>\n",
       "<style scoped>\n",
       "    .dataframe tbody tr th:only-of-type {\n",
       "        vertical-align: middle;\n",
       "    }\n",
       "\n",
       "    .dataframe tbody tr th {\n",
       "        vertical-align: top;\n",
       "    }\n",
       "\n",
       "    .dataframe thead th {\n",
       "        text-align: right;\n",
       "    }\n",
       "</style>\n",
       "<table border=\"1\" class=\"dataframe\">\n",
       "  <thead>\n",
       "    <tr style=\"text-align: right;\">\n",
       "      <th></th>\n",
       "      <th>Title</th>\n",
       "      <th>release_years</th>\n",
       "      <th>rating</th>\n",
       "    </tr>\n",
       "  </thead>\n",
       "  <tbody>\n",
       "    <tr>\n",
       "      <th>0</th>\n",
       "      <td>Glass Onion: une histoire à couteaux tirés</td>\n",
       "      <td>2022</td>\n",
       "      <td>[7,3]</td>\n",
       "    </tr>\n",
       "    <tr>\n",
       "      <th>1</th>\n",
       "      <td>Avatar: la voie de l'eau</td>\n",
       "      <td>2022</td>\n",
       "      <td>[7,9]</td>\n",
       "    </tr>\n",
       "    <tr>\n",
       "      <th>2</th>\n",
       "      <td>À couteaux tirés</td>\n",
       "      <td>2019</td>\n",
       "      <td>[7,9]</td>\n",
       "    </tr>\n",
       "    <tr>\n",
       "      <th>3</th>\n",
       "      <td>Babylon</td>\n",
       "      <td>2022</td>\n",
       "      <td>[7,4]</td>\n",
       "    </tr>\n",
       "    <tr>\n",
       "      <th>4</th>\n",
       "      <td>Avatar</td>\n",
       "      <td>2009</td>\n",
       "      <td>[7,9]</td>\n",
       "    </tr>\n",
       "  </tbody>\n",
       "</table>\n",
       "</div>"
      ],
      "text/plain": [
       "                                        Title release_years rating\n",
       "0  Glass Onion: une histoire à couteaux tirés          2022  [7,3]\n",
       "1                    Avatar: la voie de l'eau          2022  [7,9]\n",
       "2                            À couteaux tirés          2019  [7,9]\n",
       "3                                     Babylon          2022  [7,4]\n",
       "4                                      Avatar          2009  [7,9]"
      ]
     },
     "execution_count": 47,
     "metadata": {},
     "output_type": "execute_result"
    }
   ],
   "source": [
    "df_imdb.head()"
   ]
  },
  {
   "cell_type": "code",
   "execution_count": 1,
   "id": "dea0c987",
   "metadata": {
    "scrolled": false
   },
   "outputs": [
    {
     "data": {
      "text/plain": [
       "['<!DOCTYPE html>',\n",
       " '<html xmlns:fb=\"http://ogp.me/ns/fb#\" xmlns:og=\"http://opengraphprotocol.org/schema/\">',\n",
       " ' <head>',\n",
       " '  <title>',\n",
       " '   Best Movies of All Time - Metacritic',\n",
       " '  </title>',\n",
       " '  <meta content=\"text/html; charset=utf-8\" http-equiv=\"content-type\"/>',\n",
       " '  <meta content=\"See how well critics are rating the Best Movies of All Time\" name=\"description\"/>',\n",
       " '  <meta content=\"Metacritic\" name=\"application-name\"/>',\n",
       " '  <meta content=\"#000000\" name=\"msapplication-TileColor\"/>',\n",
       " '  <meta content=\"/images/win8tile/76bf1426-2886-4b87-ae1c-06424b6bb8a2.png\" name=\"msapplication-TileImage\"/>',\n",
       " '  <meta content=\"618k3mbeki8tar7u6wvrum5lxs5cka\" name=\"facebook-domain-verification\">',\n",
       " '   <meta content=\"Best Movies of All Time\" property=\"og:title\"/>',\n",
       " '   <meta content=\"website\" property=\"og:type\"/>',\n",
       " '   <meta content=\"https://www.metacritic.com/browse/movies/score/metascore/all/filtered\" property=\"og:url\"/>',\n",
       " '   <meta content=\"https://static.metacritic.com/images/icons/mc_fb_og.png\" property=\"og:image\"/>',\n",
       " '   <meta content=\"Metacritic\" property=\"og:site_name\"/>',\n",
       " '   <meta content=\"123113677890173\" property=\"fb:app_id\"/>',\n",
       " '   <meta content=\"@metacritic\" property=\"twitter:site\"/>',\n",
       " '   <meta content=\"@metacritic\" property=\"twitter:creator\"/>',\n",
       " '   <meta content=\"https://static.metacritic.com/images/icons/mc_fb_og.png\" name=\"twitter:card\"/>',\n",
       " '   <meta content=\"See how well critics are rating the Best Movies of All Time\" property=\"og:description\"/>',\n",
       " '   <link href=\"https://www.metacritic.com/browse/movies/score/metascore/all/filtered\" rel=\"canonical\"/>',\n",
       " '   <link href=\"/browse/movies/score/metascore/all/filtered?sort=desc&amp;page=1\" rel=\"next\"/>',\n",
       " '   <link href=\"//cdn.cookielaw.org\" pr=\"1\" rel=\"dns-prefetch\"/>',\n",
       " '   <link href=\"//geolocation.onetrust.com\" pr=\"1\" rel=\"dns-prefetch\"/>',\n",
       " '   <link as=\"fetch\" crossorigin=\"anonymous\" data-no-header=\"\" href=\"//cdn.cookielaw.org/consent/50e16f1d-a929-4cc0-80a7-3c5c303eea6a/50e16f1d-a929-4cc0-80a7-3c5c303eea6a.json\" pr=\"1\" rel=\"preload\" type=\"application/x-javascript\"/>',\n",
       " '   <link as=\"script\" data-no-header=\"\" href=\"https://geolocation.onetrust.com/cookieconsentpub/v1/geo/location\" rel=\"preload\" type=\"text/javascript\"/>',\n",
       " '   <script type=\"application/javascript\">',\n",
       " '    OptanonWrapperQueue = {']"
      ]
     },
     "execution_count": 1,
     "metadata": {},
     "output_type": "execute_result"
    }
   ],
   "source": [
    "import requests\n",
    "from bs4 import BeautifulSoup\n",
    "\n",
    "url_meta = 'https://www.metacritic.com/browse/movies/score/metascore/all/filtered?sort=desc'\n",
    "\n",
    "headers = {'User-Agent': 'Mozilla/5.0 (Windows NT 6.1; Win64; x64; rv:47.0) Gecko/20100101 Firefox/47.0'}\n",
    "\n",
    "res = requests.get(url_meta, headers=headers).text\n",
    "\n",
    "soup_meta = BeautifulSoup(res, 'html.parser')\n",
    "soup_meta.prettify().splitlines()[0:30]"
   ]
  },
  {
   "cell_type": "code",
   "execution_count": 2,
   "id": "2d8a7dd1",
   "metadata": {
    "scrolled": true
   },
   "outputs": [
    {
     "data": {
      "text/plain": [
       "<td class=\"clamp-image-wrap\">\n",
       "<a href=\"/movie/tokyo-story\"><img alt=\"Tokyo Story\" src=\"https://static.metacritic.com/images/products/movies/5/89265deca082302b1fe5b35db2be3986-98.jpg\"/></a>\n",
       "<span class=\"mcmust\">\n",
       "<img src=\"/images/icons/mc-mustsee-sm.svg\"/>\n",
       "</span>\n",
       "</td>"
      ]
     },
     "execution_count": 2,
     "metadata": {},
     "output_type": "execute_result"
    }
   ],
   "source": [
    "films_meta = soup_meta.find('div', attrs = {'class': \"title_bump\"}).find_all('td')\n",
    "film_meta = films_meta[0]\n",
    "\n",
    "film_meta"
   ]
  },
  {
   "cell_type": "code",
   "execution_count": null,
   "id": "4f0ad636",
   "metadata": {},
   "outputs": [],
   "source": []
  },
  {
   "cell_type": "code",
   "execution_count": 7,
   "id": "347ae6aa",
   "metadata": {
    "scrolled": false
   },
   "outputs": [
    {
     "name": "stdout",
     "output_type": "stream",
     "text": [
      "Tokyo Story\n",
      "The Godfather\n",
      "Citizen Kane\n",
      "Rear Window\n",
      "Casablanca\n",
      "Three Colors: Red\n",
      "Boyhood\n",
      "Vertigo\n",
      "Notorious\n",
      "Singin' in the Rain\n",
      "Playtime\n",
      "City Lights\n",
      "Moonlight\n",
      "Intolerance\n",
      "The Rules of the Game\n",
      "Pinocchio\n",
      "Touch of Evil\n",
      "The Zone of Interest\n",
      "Seven Samurai\n",
      "The Wild Bunch\n",
      "Au hasard Balthazar\n",
      "The Lady Vanishes\n",
      "The Treasure of the Sierra Madre\n",
      "Pan's Labyrinth\n",
      "Some Like It Hot\n",
      "North by Northwest\n",
      "Hoop Dreams\n",
      "Rashomon\n",
      "The Passion of Joan of Arc\n",
      "All About Eve\n",
      "Jules and Jim\n",
      "My Left Foot\n",
      "Ran\n",
      "The Third Man\n",
      "Dr. Strangelove or: How I Learned to Stop Worrying and Love the Bomb\n",
      "Quo Vadis, Aida?\n",
      "Psycho\n",
      "Gone with the Wind\n",
      "4 Months, 3 Weeks and 2 Days\n",
      "Battleship Potemkin\n",
      "A Streetcar Named Desire\n",
      "The Maltese Falcon\n",
      "American Graffiti\n",
      "12 Angry Men\n",
      "Dumbo\n",
      "Roma\n",
      "Man with a Movie Camera\n",
      "Parasite\n",
      "Spirited Away\n",
      "Toy Story\n",
      "Summer of Soul (...Or, When the Revolution Could Not Be Televised)\n",
      "The Shop Around the Corner\n",
      "Rosemary's Baby\n",
      "12 Years a Slave\n",
      "Manchester by the Sea\n",
      "Killer of Sheep\n",
      "Nashville\n",
      "Red River\n",
      "Sansho the Bailiff\n",
      "Ratatouille\n",
      "The Grapes of Wrath\n",
      "Snow White and the Seven Dwarfs\n",
      "Children of Paradise (1945)\n",
      "Mean Streets\n",
      "The Lady Eve\n",
      "Gravity\n",
      "Fantasia\n",
      "Beauty and the Beast\n",
      "Small Axe: Lovers Rock\n",
      "The Bride of Frankenstein\n",
      "Don't Look Now\n",
      "The Social Network\n",
      "My Fair Lady\n",
      "Portrait of a Lady on Fire\n",
      "I Am Not Your Negro\n",
      "Woodstock\n",
      "Past Lives\n",
      "Aftersun\n",
      "Rocks\n",
      "Amour\n",
      "The Hurt Locker\n",
      "Anatomy of a Murder\n",
      "Zero Dark Thirty\n",
      "Collective\n",
      "A Separation\n",
      "Double Indemnity\n",
      "Sunrise\n",
      "Schindler's List\n",
      "Pulp Fiction\n",
      "WALL-E\n",
      "Carol\n",
      "Before Midnight\n",
      "Amazing Grace\n",
      "Dunkirk\n",
      "The Man Who Shot Liberty Valance\n",
      "The Searchers\n",
      "45 Years\n",
      "Taxi Driver\n",
      "The Servant\n",
      "Yi Yi\n"
     ]
    }
   ],
   "source": [
    "movies_meta = soup_meta.find('div', attrs = {'class': \"title_bump\"}).find_all('h3')\n",
    "for movie in movies_meta:\n",
    "    print(movie.text)"
   ]
  },
  {
   "cell_type": "code",
   "execution_count": 8,
   "id": "21b24e2d",
   "metadata": {},
   "outputs": [
    {
     "name": "stdout",
     "output_type": "stream",
     "text": [
      "8.7\n",
      "9.2\n",
      "8.4\n",
      "8.7\n",
      "8.8\n",
      "8.5\n",
      "7.4\n",
      "8.6\n",
      "7.9\n",
      "8.6\n",
      "8.7\n",
      "7.1\n",
      "7.1\n",
      "8.0\n",
      "8.4\n",
      "8.7\n",
      "7.5\n",
      "7.1\n",
      "8.2\n",
      "8.0\n",
      "8.6\n",
      "8.3\n",
      "8.0\n",
      "8.0\n",
      "8.5\n",
      "8.7\n",
      "6.6\n",
      "8.3\n",
      "8.4\n",
      "8.4\n",
      "8.4\n",
      "8.0\n",
      "8.8\n",
      "8.3\n",
      "7.9\n",
      "8.6\n",
      "8.2\n",
      "8.0\n",
      "7.3\n",
      "8.8\n",
      "7.6\n",
      "7.7\n",
      "8.7\n",
      "8.9\n",
      "8.8\n",
      "7.1\n",
      "7.2\n",
      "8.3\n",
      "8.0\n",
      "8.2\n",
      "6.9\n",
      "7.8\n",
      "7.3\n",
      "8.6\n",
      "8.5\n",
      "8.1\n",
      "7.8\n",
      "7.3\n",
      "6.7\n",
      "7.8\n",
      "8.3\n",
      "8.3\n",
      "7.6\n",
      "6.8\n",
      "8.2\n",
      "7.4\n",
      "8.6\n",
      "7.8\n",
      "6.6\n",
      "8.1\n",
      "7.3\n",
      "8.1\n",
      "6.9\n",
      "7.8\n",
      "8.8\n",
      "8.6\n",
      "8.8\n",
      "9.0\n",
      "8.8\n",
      "7.9\n",
      "8.3\n",
      "8.2\n",
      "8.3\n",
      "8.5\n",
      "7.5\n",
      "7.3\n",
      "7.7\n",
      "7.5\n",
      "8.4\n"
     ]
    }
   ],
   "source": [
    "ratings_meta = soup_meta.find_all('div', attrs = {'class': \"metascore_w user large movie positive\"})\n",
    "for rating_meta in ratings_meta:\n",
    "     print(rating_meta.text)"
   ]
  },
  {
   "cell_type": "code",
   "execution_count": 9,
   "id": "f7a160e8",
   "metadata": {
    "scrolled": false
   },
   "outputs": [
    {
     "data": {
      "text/html": [
       "<div>\n",
       "<style scoped>\n",
       "    .dataframe tbody tr th:only-of-type {\n",
       "        vertical-align: middle;\n",
       "    }\n",
       "\n",
       "    .dataframe tbody tr th {\n",
       "        vertical-align: top;\n",
       "    }\n",
       "\n",
       "    .dataframe thead th {\n",
       "        text-align: right;\n",
       "    }\n",
       "</style>\n",
       "<table border=\"1\" class=\"dataframe\">\n",
       "  <thead>\n",
       "    <tr style=\"text-align: right;\">\n",
       "      <th></th>\n",
       "      <th>Title</th>\n",
       "      <th>meta_rating</th>\n",
       "    </tr>\n",
       "  </thead>\n",
       "  <tbody>\n",
       "    <tr>\n",
       "      <th>0</th>\n",
       "      <td>Tokyo Story</td>\n",
       "      <td>8.7</td>\n",
       "    </tr>\n",
       "    <tr>\n",
       "      <th>1</th>\n",
       "      <td>The Godfather</td>\n",
       "      <td>9.2</td>\n",
       "    </tr>\n",
       "    <tr>\n",
       "      <th>2</th>\n",
       "      <td>Citizen Kane</td>\n",
       "      <td>8.4</td>\n",
       "    </tr>\n",
       "    <tr>\n",
       "      <th>3</th>\n",
       "      <td>Rear Window</td>\n",
       "      <td>8.7</td>\n",
       "    </tr>\n",
       "    <tr>\n",
       "      <th>4</th>\n",
       "      <td>Casablanca</td>\n",
       "      <td>8.8</td>\n",
       "    </tr>\n",
       "    <tr>\n",
       "      <th>...</th>\n",
       "      <td>...</td>\n",
       "      <td>...</td>\n",
       "    </tr>\n",
       "    <tr>\n",
       "      <th>84</th>\n",
       "      <td>A Separation</td>\n",
       "      <td>7.5</td>\n",
       "    </tr>\n",
       "    <tr>\n",
       "      <th>85</th>\n",
       "      <td>Double Indemnity</td>\n",
       "      <td>7.3</td>\n",
       "    </tr>\n",
       "    <tr>\n",
       "      <th>86</th>\n",
       "      <td>Sunrise</td>\n",
       "      <td>7.7</td>\n",
       "    </tr>\n",
       "    <tr>\n",
       "      <th>87</th>\n",
       "      <td>Schindler's List</td>\n",
       "      <td>7.5</td>\n",
       "    </tr>\n",
       "    <tr>\n",
       "      <th>88</th>\n",
       "      <td>Pulp Fiction</td>\n",
       "      <td>8.4</td>\n",
       "    </tr>\n",
       "  </tbody>\n",
       "</table>\n",
       "<p>89 rows × 2 columns</p>\n",
       "</div>"
      ],
      "text/plain": [
       "               Title meta_rating\n",
       "0        Tokyo Story         8.7\n",
       "1      The Godfather         9.2\n",
       "2       Citizen Kane         8.4\n",
       "3        Rear Window         8.7\n",
       "4         Casablanca         8.8\n",
       "..               ...         ...\n",
       "84      A Separation         7.5\n",
       "85  Double Indemnity         7.3\n",
       "86           Sunrise         7.7\n",
       "87  Schindler's List         7.5\n",
       "88      Pulp Fiction         8.4\n",
       "\n",
       "[89 rows x 2 columns]"
      ]
     },
     "execution_count": 9,
     "metadata": {},
     "output_type": "execute_result"
    }
   ],
   "source": [
    "import pandas as pd\n",
    "title = []\n",
    "meta_rating = []\n",
    "# rating = []\n",
    "\n",
    "for movie_meta in movies_meta:\n",
    "    title.append(movie_meta.text)\n",
    "for rating_meta in ratings_meta:   \n",
    "    meta_rating.append(rating_meta.text)\n",
    "    \n",
    "    #rating.append(film_imdb.find('td', {'class': \"ratingColumn imdbRating\"}).strong)                    \n",
    "                         \n",
    "df_meta = pd.DataFrame(list(zip(title,meta_rating)), columns=[\"Title\",\"meta_rating\"])\n",
    "df_meta   \n",
    "\n",
    "\n"
   ]
  },
  {
   "cell_type": "code",
   "execution_count": 10,
   "id": "108cef66",
   "metadata": {},
   "outputs": [
    {
     "data": {
      "text/html": [
       "<div>\n",
       "<style scoped>\n",
       "    .dataframe tbody tr th:only-of-type {\n",
       "        vertical-align: middle;\n",
       "    }\n",
       "\n",
       "    .dataframe tbody tr th {\n",
       "        vertical-align: top;\n",
       "    }\n",
       "\n",
       "    .dataframe thead th {\n",
       "        text-align: right;\n",
       "    }\n",
       "</style>\n",
       "<table border=\"1\" class=\"dataframe\">\n",
       "  <thead>\n",
       "    <tr style=\"text-align: right;\">\n",
       "      <th></th>\n",
       "      <th>Title</th>\n",
       "      <th>meta_rating</th>\n",
       "    </tr>\n",
       "  </thead>\n",
       "  <tbody>\n",
       "    <tr>\n",
       "      <th>0</th>\n",
       "      <td>TOKYO STORY</td>\n",
       "      <td>8.7</td>\n",
       "    </tr>\n",
       "    <tr>\n",
       "      <th>1</th>\n",
       "      <td>THE GODFATHER</td>\n",
       "      <td>9.2</td>\n",
       "    </tr>\n",
       "    <tr>\n",
       "      <th>2</th>\n",
       "      <td>CITIZEN KANE</td>\n",
       "      <td>8.4</td>\n",
       "    </tr>\n",
       "    <tr>\n",
       "      <th>3</th>\n",
       "      <td>REAR WINDOW</td>\n",
       "      <td>8.7</td>\n",
       "    </tr>\n",
       "    <tr>\n",
       "      <th>4</th>\n",
       "      <td>CASABLANCA</td>\n",
       "      <td>8.8</td>\n",
       "    </tr>\n",
       "  </tbody>\n",
       "</table>\n",
       "</div>"
      ],
      "text/plain": [
       "           Title meta_rating\n",
       "0    TOKYO STORY         8.7\n",
       "1  THE GODFATHER         9.2\n",
       "2   CITIZEN KANE         8.4\n",
       "3    REAR WINDOW         8.7\n",
       "4     CASABLANCA         8.8"
      ]
     },
     "execution_count": 10,
     "metadata": {},
     "output_type": "execute_result"
    }
   ],
   "source": [
    "df_meta['Title']=df_meta['Title'].str.upper()\n",
    "df_meta.head()"
   ]
  },
  {
   "cell_type": "code",
   "execution_count": 11,
   "id": "700ba791",
   "metadata": {},
   "outputs": [
    {
     "data": {
      "text/html": [
       "<div>\n",
       "<style scoped>\n",
       "    .dataframe tbody tr th:only-of-type {\n",
       "        vertical-align: middle;\n",
       "    }\n",
       "\n",
       "    .dataframe tbody tr th {\n",
       "        vertical-align: top;\n",
       "    }\n",
       "\n",
       "    .dataframe thead th {\n",
       "        text-align: right;\n",
       "    }\n",
       "</style>\n",
       "<table border=\"1\" class=\"dataframe\">\n",
       "  <thead>\n",
       "    <tr style=\"text-align: right;\">\n",
       "      <th></th>\n",
       "      <th>Title</th>\n",
       "      <th>release_years</th>\n",
       "      <th>rating</th>\n",
       "    </tr>\n",
       "  </thead>\n",
       "  <tbody>\n",
       "    <tr>\n",
       "      <th>0</th>\n",
       "      <td>GLASS ONION: UNE HISTOIRE À COUTEAUX TIRÉS</td>\n",
       "      <td>2022</td>\n",
       "      <td>[7,3]</td>\n",
       "    </tr>\n",
       "    <tr>\n",
       "      <th>1</th>\n",
       "      <td>AVATAR: LA VOIE DE L'EAU</td>\n",
       "      <td>2022</td>\n",
       "      <td>[7,9]</td>\n",
       "    </tr>\n",
       "    <tr>\n",
       "      <th>2</th>\n",
       "      <td>À COUTEAUX TIRÉS</td>\n",
       "      <td>2019</td>\n",
       "      <td>[7,9]</td>\n",
       "    </tr>\n",
       "    <tr>\n",
       "      <th>3</th>\n",
       "      <td>BABYLON</td>\n",
       "      <td>2022</td>\n",
       "      <td>[7,4]</td>\n",
       "    </tr>\n",
       "    <tr>\n",
       "      <th>4</th>\n",
       "      <td>AVATAR</td>\n",
       "      <td>2009</td>\n",
       "      <td>[7,9]</td>\n",
       "    </tr>\n",
       "  </tbody>\n",
       "</table>\n",
       "</div>"
      ],
      "text/plain": [
       "                                        Title release_years rating\n",
       "0  GLASS ONION: UNE HISTOIRE À COUTEAUX TIRÉS          2022  [7,3]\n",
       "1                    AVATAR: LA VOIE DE L'EAU          2022  [7,9]\n",
       "2                            À COUTEAUX TIRÉS          2019  [7,9]\n",
       "3                                     BABYLON          2022  [7,4]\n",
       "4                                      AVATAR          2009  [7,9]"
      ]
     },
     "execution_count": 11,
     "metadata": {},
     "output_type": "execute_result"
    }
   ],
   "source": [
    "df_imdb['Title']=df_imdb['Title'].str.upper()\n",
    "df_imdb.head()"
   ]
  },
  {
   "cell_type": "code",
   "execution_count": 16,
   "id": "3baf1a6a",
   "metadata": {
    "scrolled": true
   },
   "outputs": [],
   "source": [
    "\n",
    "df = df_imdb.merge(df_meta, how='inner', on='Title')"
   ]
  },
  {
   "cell_type": "code",
   "execution_count": 13,
   "id": "ed2459ee",
   "metadata": {},
   "outputs": [
    {
     "data": {
      "text/plain": [
       "(2, 4)"
      ]
     },
     "execution_count": 13,
     "metadata": {},
     "output_type": "execute_result"
    }
   ],
   "source": [
    "df.shape"
   ]
  },
  {
   "cell_type": "code",
   "execution_count": 17,
   "id": "dd76f838",
   "metadata": {
    "scrolled": true
   },
   "outputs": [
    {
     "data": {
      "text/html": [
       "<div>\n",
       "<style scoped>\n",
       "    .dataframe tbody tr th:only-of-type {\n",
       "        vertical-align: middle;\n",
       "    }\n",
       "\n",
       "    .dataframe tbody tr th {\n",
       "        vertical-align: top;\n",
       "    }\n",
       "\n",
       "    .dataframe thead th {\n",
       "        text-align: right;\n",
       "    }\n",
       "</style>\n",
       "<table border=\"1\" class=\"dataframe\">\n",
       "  <thead>\n",
       "    <tr style=\"text-align: right;\">\n",
       "      <th></th>\n",
       "      <th>Title</th>\n",
       "      <th>release_years</th>\n",
       "      <th>rating</th>\n",
       "      <th>meta_rating</th>\n",
       "    </tr>\n",
       "  </thead>\n",
       "  <tbody>\n",
       "    <tr>\n",
       "      <th>0</th>\n",
       "      <td>PINOCCHIO</td>\n",
       "      <td>2022</td>\n",
       "      <td>[7,7]</td>\n",
       "      <td>8.7</td>\n",
       "    </tr>\n",
       "    <tr>\n",
       "      <th>1</th>\n",
       "      <td>AFTERSUN</td>\n",
       "      <td>2022</td>\n",
       "      <td>[7,8]</td>\n",
       "      <td>9.0</td>\n",
       "    </tr>\n",
       "  </tbody>\n",
       "</table>\n",
       "</div>"
      ],
      "text/plain": [
       "       Title release_years rating meta_rating\n",
       "0  PINOCCHIO          2022  [7,7]         8.7\n",
       "1   AFTERSUN          2022  [7,8]         9.0"
      ]
     },
     "execution_count": 17,
     "metadata": {},
     "output_type": "execute_result"
    }
   ],
   "source": [
    "df"
   ]
  },
  {
   "cell_type": "code",
   "execution_count": 18,
   "id": "d3a8b01d",
   "metadata": {},
   "outputs": [
    {
     "data": {
      "text/html": [
       "<div>\n",
       "<style scoped>\n",
       "    .dataframe tbody tr th:only-of-type {\n",
       "        vertical-align: middle;\n",
       "    }\n",
       "\n",
       "    .dataframe tbody tr th {\n",
       "        vertical-align: top;\n",
       "    }\n",
       "\n",
       "    .dataframe thead th {\n",
       "        text-align: right;\n",
       "    }\n",
       "</style>\n",
       "<table border=\"1\" class=\"dataframe\">\n",
       "  <thead>\n",
       "    <tr style=\"text-align: right;\">\n",
       "      <th></th>\n",
       "      <th>Title</th>\n",
       "      <th>release_years</th>\n",
       "      <th>rating</th>\n",
       "      <th>meta_rating</th>\n",
       "    </tr>\n",
       "  </thead>\n",
       "  <tbody>\n",
       "    <tr>\n",
       "      <th>17</th>\n",
       "      <td>PINOCCHIO</td>\n",
       "      <td>2022</td>\n",
       "      <td>[7,7]</td>\n",
       "      <td>99</td>\n",
       "    </tr>\n",
       "    <tr>\n",
       "      <th>56</th>\n",
       "      <td>AFTERSUN</td>\n",
       "      <td>2022</td>\n",
       "      <td>[7,8]</td>\n",
       "      <td>96</td>\n",
       "    </tr>\n",
       "  </tbody>\n",
       "</table>\n",
       "</div>"
      ],
      "text/plain": [
       "        Title release_years rating meta_rating\n",
       "17  PINOCCHIO          2022  [7,7]          99\n",
       "56   AFTERSUN          2022  [7,8]          96"
      ]
     },
     "execution_count": 18,
     "metadata": {},
     "output_type": "execute_result"
    }
   ],
   "source": [
    "filtered_df = df[df['meta_rating'].notnull()]\n",
    "filtered_df"
   ]
  },
  {
   "cell_type": "code",
   "execution_count": null,
   "id": "08c03d34",
   "metadata": {},
   "outputs": [],
   "source": []
  },
  {
   "cell_type": "code",
   "execution_count": null,
   "id": "5f01164d",
   "metadata": {},
   "outputs": [],
   "source": []
  },
  {
   "cell_type": "code",
   "execution_count": null,
   "id": "ba84fd20",
   "metadata": {},
   "outputs": [],
   "source": []
  },
  {
   "cell_type": "code",
   "execution_count": null,
   "id": "ce1effb6",
   "metadata": {},
   "outputs": [],
   "source": []
  },
  {
   "cell_type": "code",
   "execution_count": null,
   "id": "ea801044",
   "metadata": {},
   "outputs": [],
   "source": []
  },
  {
   "cell_type": "code",
   "execution_count": null,
   "id": "2afafe35",
   "metadata": {},
   "outputs": [],
   "source": []
  },
  {
   "cell_type": "code",
   "execution_count": null,
   "id": "e245c97b",
   "metadata": {},
   "outputs": [],
   "source": []
  },
  {
   "cell_type": "code",
   "execution_count": null,
   "id": "0b262091",
   "metadata": {},
   "outputs": [],
   "source": []
  },
  {
   "cell_type": "code",
   "execution_count": null,
   "id": "932a9318",
   "metadata": {},
   "outputs": [],
   "source": []
  },
  {
   "cell_type": "code",
   "execution_count": null,
   "id": "ead44d11",
   "metadata": {},
   "outputs": [],
   "source": []
  },
  {
   "cell_type": "code",
   "execution_count": null,
   "id": "c6f3acf2",
   "metadata": {},
   "outputs": [],
   "source": []
  },
  {
   "cell_type": "code",
   "execution_count": null,
   "id": "5d05ae25",
   "metadata": {},
   "outputs": [],
   "source": []
  },
  {
   "cell_type": "code",
   "execution_count": null,
   "id": "9d169228",
   "metadata": {},
   "outputs": [],
   "source": []
  },
  {
   "cell_type": "code",
   "execution_count": null,
   "id": "1830a89c",
   "metadata": {},
   "outputs": [],
   "source": []
  },
  {
   "cell_type": "code",
   "execution_count": null,
   "id": "ad16c713",
   "metadata": {},
   "outputs": [],
   "source": []
  },
  {
   "cell_type": "code",
   "execution_count": 166,
   "id": "bee5454d",
   "metadata": {
    "scrolled": true
   },
   "outputs": [
    {
     "data": {
      "text/plain": [
       "81    22\n",
       "78    14\n",
       "80    12\n",
       "79    12\n",
       "83     8\n",
       "91     6\n",
       "88     6\n",
       "84     6\n",
       "85     4\n",
       "82     4\n",
       "77     4\n",
       "86     2\n",
       "Name: rating, dtype: int64"
      ]
     },
     "execution_count": 166,
     "metadata": {},
     "output_type": "execute_result"
    }
   ],
   "source": [
    "df_meta.rating.value_counts()"
   ]
  },
  {
   "cell_type": "code",
   "execution_count": null,
   "id": "f12e685b",
   "metadata": {},
   "outputs": [],
   "source": []
  },
  {
   "cell_type": "code",
   "execution_count": null,
   "id": "ccafde25",
   "metadata": {},
   "outputs": [],
   "source": []
  },
  {
   "cell_type": "code",
   "execution_count": null,
   "id": "da27dc62",
   "metadata": {},
   "outputs": [],
   "source": []
  },
  {
   "cell_type": "code",
   "execution_count": null,
   "id": "9e81c8bd",
   "metadata": {},
   "outputs": [],
   "source": []
  },
  {
   "cell_type": "code",
   "execution_count": null,
   "id": "73a74d89",
   "metadata": {},
   "outputs": [],
   "source": []
  },
  {
   "cell_type": "code",
   "execution_count": null,
   "id": "ab20acf9",
   "metadata": {},
   "outputs": [],
   "source": []
  },
  {
   "cell_type": "code",
   "execution_count": null,
   "id": "cd335550",
   "metadata": {},
   "outputs": [],
   "source": []
  },
  {
   "cell_type": "code",
   "execution_count": null,
   "id": "d983a817",
   "metadata": {},
   "outputs": [],
   "source": []
  },
  {
   "cell_type": "code",
   "execution_count": null,
   "id": "8ed976af",
   "metadata": {},
   "outputs": [],
   "source": []
  },
  {
   "cell_type": "code",
   "execution_count": null,
   "id": "0b7e9df1",
   "metadata": {},
   "outputs": [],
   "source": []
  },
  {
   "cell_type": "code",
   "execution_count": null,
   "id": "04099039",
   "metadata": {},
   "outputs": [],
   "source": []
  },
  {
   "cell_type": "code",
   "execution_count": null,
   "id": "b844d2c7",
   "metadata": {},
   "outputs": [],
   "source": []
  },
  {
   "cell_type": "code",
   "execution_count": 106,
   "id": "9ba7b6b1",
   "metadata": {},
   "outputs": [
    {
     "ename": "AttributeError",
     "evalue": "'NoneType' object has no attribute 'img'",
     "output_type": "error",
     "traceback": [
      "\u001b[1;31m---------------------------------------------------------------------------\u001b[0m",
      "\u001b[1;31mAttributeError\u001b[0m                            Traceback (most recent call last)",
      "\u001b[1;32m~\\AppData\\Local\\Temp/ipykernel_17924/1161273839.py\u001b[0m in \u001b[0;36m<module>\u001b[1;34m\u001b[0m\n\u001b[0;32m      1\u001b[0m \u001b[1;32mfor\u001b[0m \u001b[0mfilm_meta\u001b[0m \u001b[1;32min\u001b[0m \u001b[0mfilms_meta\u001b[0m\u001b[1;33m:\u001b[0m\u001b[1;33m\u001b[0m\u001b[1;33m\u001b[0m\u001b[0m\n\u001b[1;32m----> 2\u001b[1;33m     \u001b[0mname\u001b[0m\u001b[1;33m=\u001b[0m\u001b[0mfilm_imdb\u001b[0m\u001b[1;33m.\u001b[0m\u001b[0mfind\u001b[0m\u001b[1;33m(\u001b[0m\u001b[1;34m'td'\u001b[0m\u001b[1;33m,\u001b[0m \u001b[1;33m{\u001b[0m\u001b[1;34m'class'\u001b[0m\u001b[1;33m:\u001b[0m \u001b[1;34m\"clamp-image-wrap\"\u001b[0m\u001b[1;33m}\u001b[0m\u001b[1;33m)\u001b[0m\u001b[1;33m.\u001b[0m\u001b[0mimg\u001b[0m\u001b[1;33m\u001b[0m\u001b[1;33m\u001b[0m\u001b[0m\n\u001b[0m\u001b[0;32m      3\u001b[0m \u001b[0mprint\u001b[0m\u001b[1;33m(\u001b[0m\u001b[0mname\u001b[0m\u001b[1;33m)\u001b[0m\u001b[1;33m\u001b[0m\u001b[1;33m\u001b[0m\u001b[0m\n",
      "\u001b[1;31mAttributeError\u001b[0m: 'NoneType' object has no attribute 'img'"
     ]
    }
   ],
   "source": [
    "for film_meta in films_meta:\n",
    "    name=film_imdb.find('td', {'class': \"clamp-image-wrap\"}).img\n",
    "print(name)\n"
   ]
  },
  {
   "cell_type": "code",
   "execution_count": 94,
   "id": "68d0f1ed",
   "metadata": {},
   "outputs": [
    {
     "ename": "AttributeError",
     "evalue": "'NoneType' object has no attribute 'strong'",
     "output_type": "error",
     "traceback": [
      "\u001b[1;31m---------------------------------------------------------------------------\u001b[0m",
      "\u001b[1;31mAttributeError\u001b[0m                            Traceback (most recent call last)",
      "\u001b[1;32m~\\AppData\\Local\\Temp/ipykernel_17924/4044663623.py\u001b[0m in \u001b[0;36m<module>\u001b[1;34m\u001b[0m\n\u001b[0;32m      5\u001b[0m \u001b[1;32mfor\u001b[0m \u001b[0mfilm_meta\u001b[0m \u001b[1;32min\u001b[0m \u001b[0mfilms_meta\u001b[0m\u001b[1;33m:\u001b[0m\u001b[1;33m\u001b[0m\u001b[1;33m\u001b[0m\u001b[0m\n\u001b[0;32m      6\u001b[0m     \u001b[0mtitle\u001b[0m\u001b[1;33m.\u001b[0m\u001b[0mappend\u001b[0m\u001b[1;33m(\u001b[0m\u001b[0mfilm_imdb\u001b[0m\u001b[1;33m.\u001b[0m\u001b[0ma\u001b[0m\u001b[1;33m.\u001b[0m\u001b[0mimg\u001b[0m\u001b[1;33m[\u001b[0m\u001b[1;34m'alt'\u001b[0m\u001b[1;33m]\u001b[0m\u001b[1;33m)\u001b[0m\u001b[1;33m\u001b[0m\u001b[1;33m\u001b[0m\u001b[0m\n\u001b[1;32m----> 7\u001b[1;33m     \u001b[0mrating\u001b[0m\u001b[1;33m.\u001b[0m\u001b[0mappend\u001b[0m\u001b[1;33m(\u001b[0m\u001b[0mfilm_meta\u001b[0m\u001b[1;33m.\u001b[0m\u001b[0mfind\u001b[0m\u001b[1;33m(\u001b[0m\u001b[1;34m'td'\u001b[0m\u001b[1;33m,\u001b[0m \u001b[1;33m{\u001b[0m\u001b[1;34m'class'\u001b[0m\u001b[1;33m:\u001b[0m \u001b[1;34m\"ratingColumn imdbRating\"\u001b[0m\u001b[1;33m}\u001b[0m\u001b[1;33m)\u001b[0m\u001b[1;33m.\u001b[0m\u001b[0mstrong\u001b[0m\u001b[1;33m)\u001b[0m\u001b[1;33m\u001b[0m\u001b[1;33m\u001b[0m\u001b[0m\n\u001b[0m\u001b[0;32m      8\u001b[0m \u001b[1;33m\u001b[0m\u001b[0m\n\u001b[0;32m      9\u001b[0m \u001b[0mdf_meta\u001b[0m \u001b[1;33m=\u001b[0m \u001b[0mpd\u001b[0m\u001b[1;33m.\u001b[0m\u001b[0mDataFrame\u001b[0m\u001b[1;33m(\u001b[0m\u001b[0mlist\u001b[0m\u001b[1;33m(\u001b[0m\u001b[0mzip\u001b[0m\u001b[1;33m(\u001b[0m\u001b[0mtitle\u001b[0m\u001b[1;33m,\u001b[0m\u001b[0mrating\u001b[0m\u001b[1;33m)\u001b[0m\u001b[1;33m)\u001b[0m\u001b[1;33m,\u001b[0m \u001b[0mcolumns\u001b[0m\u001b[1;33m=\u001b[0m\u001b[1;33m[\u001b[0m\u001b[1;34m\"Title\"\u001b[0m\u001b[1;33m,\u001b[0m\u001b[1;34m\"rating\"\u001b[0m\u001b[1;33m]\u001b[0m\u001b[1;33m)\u001b[0m\u001b[1;33m\u001b[0m\u001b[1;33m\u001b[0m\u001b[0m\n",
      "\u001b[1;31mAttributeError\u001b[0m: 'NoneType' object has no attribute 'strong'"
     ]
    }
   ],
   "source": [
    "import pandas as pd\n",
    "title = []\n",
    "rating = []\n",
    "\n",
    "for film_meta in films_meta:\n",
    "    title.append(film_imdb.a.img['alt'])\n",
    "    rating.append(film_meta.find('td', {'class': \"ratingColumn imdbRating\"}).strong)                    \n",
    "                         \n",
    "df_meta = pd.DataFrame(list(zip(title,rating)), columns=[\"Title\",\"rating\"])\n",
    "    \n",
    "#     writer.append(bestseller.find('div', {'class': 'a-row a-size-small'}).text)\n",
    "    \n",
    "#     price.append(bestseller.find('span', {'class': \"p13n-sc-price\"}).text)\n",
    "\n",
    "#books = pd.DataFrame(list(zip(title, writer, price)), columns=[\"Title\", \"Writer\", \"Price\"])\n",
    "    \n",
    "df_meta"
   ]
  },
  {
   "cell_type": "code",
   "execution_count": 63,
   "id": "f66613df",
   "metadata": {
    "scrolled": false
   },
   "outputs": [],
   "source": [
    "\n",
    "films_imdb = soup_im.find('tbody', class_= \"lister-list\")\n",
    "#films_imdb"
   ]
  },
  {
   "cell_type": "code",
   "execution_count": 66,
   "id": "2261a683",
   "metadata": {
    "scrolled": false
   },
   "outputs": [
    {
     "ename": "TypeError",
     "evalue": "find() takes no keyword arguments",
     "output_type": "error",
     "traceback": [
      "\u001b[1;31m---------------------------------------------------------------------------\u001b[0m",
      "\u001b[1;31mTypeError\u001b[0m                                 Traceback (most recent call last)",
      "\u001b[1;32m~\\AppData\\Local\\Temp/ipykernel_16700/1349677919.py\u001b[0m in \u001b[0;36m<module>\u001b[1;34m\u001b[0m\n\u001b[0;32m      1\u001b[0m \u001b[1;31m#title=[]\u001b[0m\u001b[1;33m\u001b[0m\u001b[1;33m\u001b[0m\u001b[0m\n\u001b[0;32m      2\u001b[0m \u001b[1;32mfor\u001b[0m \u001b[0mfilm_imdb\u001b[0m \u001b[1;32min\u001b[0m \u001b[0mfilms_imdb\u001b[0m\u001b[1;33m:\u001b[0m\u001b[1;33m\u001b[0m\u001b[1;33m\u001b[0m\u001b[0m\n\u001b[1;32m----> 3\u001b[1;33m     \u001b[0mtitle\u001b[0m \u001b[1;33m=\u001b[0m \u001b[0mfilm_imdb\u001b[0m\u001b[1;33m.\u001b[0m\u001b[0mfind\u001b[0m\u001b[1;33m(\u001b[0m\u001b[1;34m'td'\u001b[0m\u001b[1;33m,\u001b[0m \u001b[0mclass_\u001b[0m \u001b[1;33m=\u001b[0m\u001b[1;34m'titleColumn'\u001b[0m\u001b[1;33m)\u001b[0m\u001b[1;33m.\u001b[0m\u001b[0ma\u001b[0m\u001b[1;33m.\u001b[0m\u001b[0mtext\u001b[0m\u001b[1;33m\u001b[0m\u001b[1;33m\u001b[0m\u001b[0m\n\u001b[0m",
      "\u001b[1;31mTypeError\u001b[0m: find() takes no keyword arguments"
     ]
    }
   ],
   "source": [
    "#title=[]\n",
    "for film_imdb in films_imdb:\n",
    "    title = film_imdb.find('td', class_ ='titleColumn').a.text"
   ]
  },
  {
   "cell_type": "code",
   "execution_count": 29,
   "id": "b047fa5d",
   "metadata": {
    "scrolled": true
   },
   "outputs": [
    {
     "name": "stdout",
     "output_type": "stream",
     "text": [
      "['Glass Onion: une histoire à couteaux tirés(2022)1(1)', \"Avatar: la voie de l'eau(2022)2(1)\", 'À couteaux tirés(2019)3(11)', 'Babylon(2022)4(no change)', 'Avatar(2009)5(2)', \"Les Banshees d'Inisherin(2022)6(1)\", 'Christmas Story(1983)7(10)', 'Matilda, la comédie musicale(2022)8(104)', 'Violent Night(2022)9(3)', 'Top Gun: Maverick(2022)10(9)', 'Bullet Train(2022)11(no change)', 'Love Actually(2003)12(no change)', 'A Christmas Story Christmas(2022)13(9)', \"Avalonia, l'étrange voyage(2022)14(20)\", \"Maman, j'ai raté l'avion!(1990)15(1)\", 'La vie est belle(1946)16(11)', 'Le sapin a les boules(1989)17(4)', 'Pinocchio(2022)18(8)', 'White Noise(2022)19(126)', 'The Fabelmans(2022)20(no change)', 'Spirited(2022)21(6)', 'Le chat potté 2: La dernière quête(2022)22(13)', 'Everything Everywhere All at Once(2022)23(6)', 'Knock at the Cabin(2023)24(567)', 'The Whale(2022)25(7)', 'Amsterdam(2022)26(2)', 'Le Pire voisin au monde(2022)27(70)', 'Black Adam(2022)28(20)', 'Top Gun(1986)29(12)', 'X(2022)30(7)', \"Le bal de l'enfer(2022)31(453)\", 'Piège de cristal(1988)32(1)', 'Le Grinch(2000)33(12)', 'Le menu(2022)34(8)', 'M3gan(2022)35(32)', 'Oppenheimer(2023)36(31)', 'Noël blanc(1954)37(9)', 'Elfe(2003)38(13)', 'Sans filtre(2022)39(9)', 'I Wanna Dance with Somebody(2022)40(4)', \"Maman, j'ai encore raté l'avion... et je suis perdu dans New York(1992)41(4)\", 'Black Panther: Wakanda Forever(2022)42(9)', \"L'enfant, la taupe, le renard et le cheval(2022)19\\xa0701(965)\", 'The Batman(2022)43(4)', 'Barbare(2022)44(4)', \"Don't Worry Darling(2022)45(7)\", 'Bones and All(2022)46(14)', 'Le Pôle Express(2004)47(8)', 'Willow(1988)48(2)', 'Matilda(1996)49(212)', 'Smile(2022)50(4)', 'Fantômes en fête(1988)51(9)', 'Nope(2022)52(14)', 'The Holiday(2006)53(7)', 'The Northman(2022)54(17)', \"Harry Potter à l'école des sorciers(2001)55(34)\", 'Aftersun(2022)56(13)', \"A l'Ouest, rien de nouveau(2022)57(19)\", 'Le Parrain(1972)58(35)', 'La légende de Klaus(2019)59(6)', 'Barbie(2023)60(51)', 'Super Noël(1994)61(21)', 'Tár(2022)62(13)', 'La famille Addams(1991)63(14)', 'Le Grinch(2018)64(28)', 'Cirkus(2022)65(26)', 'The Pale Blue Eye(2022)66(42)', 'Là où chantent les écrevisses(2022)67(28)', 'Emancipation(2022)68(30)', 'Ticket to Paradise(2022)69(18)', 'Miracle sur la 34ème rue(1994)70(14)', 'Mort sur le Nil(2022)71(85)', 'Elvis(2022)72(27)', 'The Gray Man(2022)73(62)', 'Zoolander(2001)74(13)', 'Encanto, la fantastique famille Madrigal(2021)75(364)', 'Emily the Criminal(2022)76(2)', \"L'amant de Lady Chatterley(2022)77(22)\", 'Les animaux fantastiques: Les secrets de Dumbledore(2022)78(226)', 'Women Talking(2022)79(57)', 'After: Chapitre 4(2022)80(415)', 'Coup de théâtre(2022)81(20)', '1917(2019)82(321)', 'The Fallout(2021)83(26)', 'The Woman King(2022)84(19)', '7 Femmes(2021)85(6\\xa0216)', 'Pearl(2022)86(16)', 'Noël tombe à pic(2022)87(24)', 'Prisoners(2013)88(37)', 'Noël chez les Muppets(1992)89(7)', 'Avatar 3(2024)90(17)', 'Les Évadés(1994)91(19)', 'About Fate(2022)92(12)', 'Thor: Love and Thunder(2022)93(18)', \"Le Seigneur des anneaux : La Communauté de l'anneau(2001)94(69)\", 'Les Goonies(1985)95(289)', 'Mourir peut attendre(2021)96(93)', 'Interstellar(2014)97(7)', 'Dune(2021)98(32)', 'Last Christmas(2019)99(35)']\n"
     ]
    }
   ],
   "source": [
    "title= []\n",
    "for film_imdb in   films_imdb:\n",
    "    film_imdb= film_imdb.get_text().replace('\\n','')\n",
    "    film_imdb=film_imdb.strip()\n",
    "    title.append(film_imdb)\n",
    "print(title)"
   ]
  },
  {
   "cell_type": "code",
   "execution_count": null,
   "id": "03bfe2cd",
   "metadata": {},
   "outputs": [],
   "source": []
  },
  {
   "cell_type": "code",
   "execution_count": 9,
   "id": "31b204c3",
   "metadata": {
    "scrolled": true
   },
   "outputs": [
    {
     "ename": "TypeError",
     "evalue": "'NoneType' object is not callable",
     "output_type": "error",
     "traceback": [
      "\u001b[1;31m---------------------------------------------------------------------------\u001b[0m",
      "\u001b[1;31mTypeError\u001b[0m                                 Traceback (most recent call last)",
      "\u001b[1;32m~\\AppData\\Local\\Temp/ipykernel_16700/1561787135.py\u001b[0m in \u001b[0;36m<module>\u001b[1;34m\u001b[0m\n\u001b[1;32m----> 1\u001b[1;33m \u001b[0mrank\u001b[0m \u001b[1;33m=\u001b[0m \u001b[0msoup_im\u001b[0m\u001b[1;33m.\u001b[0m\u001b[0mfindall\u001b[0m\u001b[1;33m(\u001b[0m\u001b[1;34m'td'\u001b[0m\u001b[1;33m,\u001b[0m \u001b[0mattrs\u001b[0m \u001b[1;33m=\u001b[0m \u001b[1;33m{\u001b[0m\u001b[1;34m'style'\u001b[0m \u001b[1;33m:\u001b[0m \u001b[1;34m\"vertical-align: inherit;\"\u001b[0m\u001b[1;33m}\u001b[0m\u001b[1;33m)\u001b[0m\u001b[1;33m\u001b[0m\u001b[1;33m\u001b[0m\u001b[0m\n\u001b[0m\u001b[0;32m      2\u001b[0m \u001b[0mrank\u001b[0m\u001b[1;33m\u001b[0m\u001b[1;33m\u001b[0m\u001b[0m\n",
      "\u001b[1;31mTypeError\u001b[0m: 'NoneType' object is not callable"
     ]
    }
   ],
   "source": [
    "rank = soup_im.findall('td', attrs = {'style' : \"vertical-align: inherit;\"})\n",
    "rank"
   ]
  },
  {
   "cell_type": "code",
   "execution_count": 23,
   "id": "934d548b",
   "metadata": {},
   "outputs": [
    {
     "name": "stdout",
     "output_type": "stream",
     "text": [
      "['Glass Onion: une histoire à couteaux tirés\\n(2022)\\n1\\n(\\n\\n1)', \"Avatar: la voie de l'eau\\n(2022)\\n2\\n(\\n\\n1)\", 'À couteaux tirés\\n(2019)\\n3\\n(\\n\\n11)', 'Babylon\\n(2022)\\n4\\n(no change)', 'Avatar\\n(2009)\\n5\\n(\\n\\n2)', \"Les Banshees d'Inisherin\\n(2022)\\n6\\n(\\n\\n1)\", 'Christmas Story\\n(1983)\\n7\\n(\\n\\n10)', 'Matilda, la comédie musicale\\n(2022)\\n8\\n(\\n\\n104)', 'Violent Night\\n(2022)\\n9\\n(\\n\\n3)', 'Top Gun: Maverick\\n(2022)\\n10\\n(\\n\\n9)', 'Bullet Train\\n(2022)\\n11\\n(no change)', 'Love Actually\\n(2003)\\n12\\n(no change)', 'A Christmas Story Christmas\\n(2022)\\n13\\n(\\n\\n9)', \"Avalonia, l'étrange voyage\\n(2022)\\n14\\n(\\n\\n20)\", \"Maman, j'ai raté l'avion!\\n(1990)\\n15\\n(\\n\\n1)\", 'La vie est belle\\n(1946)\\n16\\n(\\n\\n11)', 'Le sapin a les boules\\n(1989)\\n17\\n(\\n\\n4)', 'Pinocchio\\n(2022)\\n18\\n(\\n\\n8)', 'White Noise\\n(2022)\\n19\\n(\\n\\n126)', 'The Fabelmans\\n(2022)\\n20\\n(no change)', 'Spirited\\n(2022)\\n21\\n(\\n\\n6)', 'Le chat potté 2: La dernière quête\\n(2022)\\n22\\n(\\n\\n13)', 'Everything Everywhere All at Once\\n(2022)\\n23\\n(\\n\\n6)', 'Knock at the Cabin\\n(2023)\\n24\\n(\\n\\n567)', 'The Whale\\n(2022)\\n25\\n(\\n\\n7)', 'Amsterdam\\n(2022)\\n26\\n(\\n\\n2)', 'Le Pire voisin au monde\\n(2022)\\n27\\n(\\n\\n70)', 'Black Adam\\n(2022)\\n28\\n(\\n\\n20)', 'Top Gun\\n(1986)\\n29\\n(\\n\\n12)', 'X\\n(2022)\\n30\\n(\\n\\n7)', \"Le bal de l'enfer\\n(2022)\\n31\\n(\\n\\n453)\", 'Piège de cristal\\n(1988)\\n32\\n(\\n\\n1)', 'Le Grinch\\n(2000)\\n33\\n(\\n\\n12)', 'Le menu\\n(2022)\\n34\\n(\\n\\n8)', 'M3gan\\n(2022)\\n35\\n(\\n\\n32)', 'Oppenheimer\\n(2023)\\n36\\n(\\n\\n31)', 'Noël blanc\\n(1954)\\n37\\n(\\n\\n9)', 'Elfe\\n(2003)\\n38\\n(\\n\\n13)', 'Sans filtre\\n(2022)\\n39\\n(\\n\\n9)', 'I Wanna Dance with Somebody\\n(2022)\\n40\\n(\\n\\n4)', \"Maman, j'ai encore raté l'avion... et je suis perdu dans New York\\n(1992)\\n41\\n(\\n\\n4)\", 'Black Panther: Wakanda Forever\\n(2022)\\n42\\n(\\n\\n9)', \"L'enfant, la taupe, le renard et le cheval\\n(2022)\\n19\\xa0701\\n(\\n\\n965)\", 'The Batman\\n(2022)\\n43\\n(\\n\\n4)', 'Barbare\\n(2022)\\n44\\n(\\n\\n4)', \"Don't Worry Darling\\n(2022)\\n45\\n(\\n\\n7)\", 'Bones and All\\n(2022)\\n46\\n(\\n\\n14)', 'Le Pôle Express\\n(2004)\\n47\\n(\\n\\n8)', 'Willow\\n(1988)\\n48\\n(\\n\\n2)', 'Matilda\\n(1996)\\n49\\n(\\n\\n212)', 'Smile\\n(2022)\\n50\\n(\\n\\n4)', 'Fantômes en fête\\n(1988)\\n51\\n(\\n\\n9)', 'Nope\\n(2022)\\n52\\n(\\n\\n14)', 'The Holiday\\n(2006)\\n53\\n(\\n\\n7)', 'The Northman\\n(2022)\\n54\\n(\\n\\n17)', \"Harry Potter à l'école des sorciers\\n(2001)\\n55\\n(\\n\\n34)\", 'Aftersun\\n(2022)\\n56\\n(\\n\\n13)', \"A l'Ouest, rien de nouveau\\n(2022)\\n57\\n(\\n\\n19)\", 'Le Parrain\\n(1972)\\n58\\n(\\n\\n35)', 'La légende de Klaus\\n(2019)\\n59\\n(\\n\\n6)', 'Barbie\\n(2023)\\n60\\n(\\n\\n51)', 'Super Noël\\n(1994)\\n61\\n(\\n\\n21)', 'Tár\\n(2022)\\n62\\n(\\n\\n13)', 'La famille Addams\\n(1991)\\n63\\n(\\n\\n14)', 'Le Grinch\\n(2018)\\n64\\n(\\n\\n28)', 'Cirkus\\n(2022)\\n65\\n(\\n\\n26)', 'The Pale Blue Eye\\n(2022)\\n66\\n(\\n\\n42)', 'Là où chantent les écrevisses\\n(2022)\\n67\\n(\\n\\n28)', 'Emancipation\\n(2022)\\n68\\n(\\n\\n30)', 'Ticket to Paradise\\n(2022)\\n69\\n(\\n\\n18)', 'Miracle sur la 34ème rue\\n(1994)\\n70\\n(\\n\\n14)', 'Mort sur le Nil\\n(2022)\\n71\\n(\\n\\n85)', 'Elvis\\n(2022)\\n72\\n(\\n\\n27)', 'The Gray Man\\n(2022)\\n73\\n(\\n\\n62)', 'Zoolander\\n(2001)\\n74\\n(\\n\\n13)', 'Encanto, la fantastique famille Madrigal\\n(2021)\\n75\\n(\\n\\n364)', 'Emily the Criminal\\n(2022)\\n76\\n(\\n\\n2)', \"L'amant de Lady Chatterley\\n(2022)\\n77\\n(\\n\\n22)\", 'Les animaux fantastiques: Les secrets de Dumbledore\\n(2022)\\n78\\n(\\n\\n226)', 'Women Talking\\n(2022)\\n79\\n(\\n\\n57)', 'After: Chapitre 4\\n(2022)\\n80\\n(\\n\\n415)', 'Coup de théâtre\\n(2022)\\n81\\n(\\n\\n20)', '1917\\n(2019)\\n82\\n(\\n\\n321)', 'The Fallout\\n(2021)\\n83\\n(\\n\\n26)', 'The Woman King\\n(2022)\\n84\\n(\\n\\n19)', '7 Femmes\\n(2021)\\n85\\n(\\n\\n6\\xa0216)', 'Pearl\\n(2022)\\n86\\n(\\n\\n16)', 'Noël tombe à pic\\n(2022)\\n87\\n(\\n\\n24)', 'Prisoners\\n(2013)\\n88\\n(\\n\\n37)', 'Noël chez les Muppets\\n(1992)\\n89\\n(\\n\\n7)', 'Avatar 3\\n(2024)\\n90\\n(\\n\\n17)', 'Les Évadés\\n(1994)\\n91\\n(\\n\\n19)', 'About Fate\\n(2022)\\n92\\n(\\n\\n12)', 'Thor: Love and Thunder\\n(2022)\\n93\\n(\\n\\n18)', \"Le Seigneur des anneaux : La Communauté de l'anneau\\n(2001)\\n94\\n(\\n\\n69)\", 'Les Goonies\\n(1985)\\n95\\n(\\n\\n289)', 'Mourir peut attendre\\n(2021)\\n96\\n(\\n\\n93)', 'Interstellar\\n(2014)\\n97\\n(\\n\\n7)', 'Dune\\n(2021)\\n98\\n(\\n\\n32)', 'Last Christmas\\n(2019)\\n99\\n(\\n\\n35)']\n"
     ]
    }
   ],
   "source": [
    "ratings= []\n",
    "for film_imdb in films_imdb:\n",
    "    ratings.append(film_imdb.get_text().strip())\n",
    "print(ratings)"
   ]
  },
  {
   "cell_type": "code",
   "execution_count": 71,
   "id": "6158f046",
   "metadata": {},
   "outputs": [
    {
     "data": {
      "text/plain": [
       "<span class=\"secondaryInfo\">(2022)</span>"
      ]
     },
     "execution_count": 71,
     "metadata": {},
     "output_type": "execute_result"
    }
   ],
   "source": [
    "release_years = soup_im.findAll('span', attrs = {'class' : \"secondaryInfo\"})\n",
    "release_years[0]"
   ]
  },
  {
   "cell_type": "code",
   "execution_count": 33,
   "id": "737ff74d",
   "metadata": {
    "scrolled": true
   },
   "outputs": [
    {
     "data": {
      "text/plain": [
       "<div class=\"velocity\">1\n",
       "<span class=\"secondaryInfo\">(\n",
       "<span class=\"global-sprite titlemeter up\"></span>\n",
       "1)</span>\n",
       "</div>"
      ]
     },
     "execution_count": 33,
     "metadata": {},
     "output_type": "execute_result"
    }
   ],
   "source": [
    "ratings = soup_im.find_all('div', class_= \"velocity\")\n",
    "ratings[0]"
   ]
  },
  {
   "cell_type": "code",
   "execution_count": 38,
   "id": "baa773fb",
   "metadata": {},
   "outputs": [
    {
     "ename": "NameError",
     "evalue": "name 'ratings' is not defined",
     "output_type": "error",
     "traceback": [
      "\u001b[1;31m---------------------------------------------------------------------------\u001b[0m",
      "\u001b[1;31mNameError\u001b[0m                                 Traceback (most recent call last)",
      "\u001b[1;32m~\\AppData\\Local\\Temp/ipykernel_17924/3363248136.py\u001b[0m in \u001b[0;36m<module>\u001b[1;34m\u001b[0m\n\u001b[0;32m      1\u001b[0m \u001b[0mrate\u001b[0m\u001b[1;33m=\u001b[0m \u001b[1;33m[\u001b[0m\u001b[1;33m]\u001b[0m\u001b[1;33m\u001b[0m\u001b[1;33m\u001b[0m\u001b[0m\n\u001b[1;32m----> 2\u001b[1;33m \u001b[1;32mfor\u001b[0m \u001b[0mrating\u001b[0m \u001b[1;32min\u001b[0m \u001b[0mratings\u001b[0m\u001b[1;33m:\u001b[0m\u001b[1;33m\u001b[0m\u001b[1;33m\u001b[0m\u001b[0m\n\u001b[0m\u001b[0;32m      3\u001b[0m     \u001b[0mrating\u001b[0m\u001b[1;33m=\u001b[0m \u001b[0mrating\u001b[0m\u001b[1;33m.\u001b[0m\u001b[0mget_text\u001b[0m\u001b[1;33m(\u001b[0m\u001b[1;33m)\u001b[0m\u001b[1;33m.\u001b[0m\u001b[0mreplace\u001b[0m\u001b[1;33m(\u001b[0m\u001b[1;34m'\\n'\u001b[0m\u001b[1;33m,\u001b[0m\u001b[1;34m''\u001b[0m\u001b[1;33m)\u001b[0m\u001b[1;33m\u001b[0m\u001b[1;33m\u001b[0m\u001b[0m\n\u001b[0;32m      4\u001b[0m     \u001b[0mrating\u001b[0m\u001b[1;33m=\u001b[0m\u001b[0mrating\u001b[0m\u001b[1;33m.\u001b[0m\u001b[0mstrip\u001b[0m\u001b[1;33m(\u001b[0m\u001b[1;34m'()'\u001b[0m\u001b[1;33m)\u001b[0m\u001b[1;33m\u001b[0m\u001b[1;33m\u001b[0m\u001b[0m\n\u001b[0;32m      5\u001b[0m     \u001b[0mrate\u001b[0m\u001b[1;33m.\u001b[0m\u001b[0mappend\u001b[0m\u001b[1;33m(\u001b[0m\u001b[0mrating\u001b[0m\u001b[1;33m)\u001b[0m\u001b[1;33m\u001b[0m\u001b[1;33m\u001b[0m\u001b[0m\n",
      "\u001b[1;31mNameError\u001b[0m: name 'ratings' is not defined"
     ]
    }
   ],
   "source": [
    "rate= []\n",
    "for rate in rate:\n",
    "    rating= rating.get_text().replace('\\n','')\n",
    "    rating=rating.strip('()')\n",
    "    rate.append(rating)\n",
    "print(rate)"
   ]
  },
  {
   "cell_type": "code",
   "execution_count": 21,
   "id": "4df2103f",
   "metadata": {},
   "outputs": [],
   "source": []
  },
  {
   "cell_type": "code",
   "execution_count": 22,
   "id": "33928b6e",
   "metadata": {},
   "outputs": [
    {
     "data": {
      "text/plain": [
       "[]"
      ]
     },
     "execution_count": 22,
     "metadata": {},
     "output_type": "execute_result"
    }
   ],
   "source": [
    "ratings"
   ]
  },
  {
   "cell_type": "code",
   "execution_count": 80,
   "id": "97e971c0",
   "metadata": {},
   "outputs": [
    {
     "data": {
      "text/plain": [
       "'9,99\\xa0€'"
      ]
     },
     "execution_count": 80,
     "metadata": {},
     "output_type": "execute_result"
    }
   ],
   "source": [
    "from bs4 import UnicodeDammit\n",
    "dammit_p = UnicodeDammit(\"9,99\\xa0€\")\n",
    "dammit_p.unicode_markup"
   ]
  },
  {
   "cell_type": "code",
   "execution_count": 37,
   "id": "8c9b280b",
   "metadata": {
    "scrolled": true
   },
   "outputs": [
    {
     "ename": "SyntaxError",
     "evalue": "invalid syntax (Temp/ipykernel_16700/1904439311.py, line 11)",
     "output_type": "error",
     "traceback": [
      "\u001b[1;36m  File \u001b[1;32m\"C:\\Users\\PC\\AppData\\Local\\Temp/ipykernel_16700/1904439311.py\"\u001b[1;36m, line \u001b[1;32m11\u001b[0m\n\u001b[1;33m    ratings.append(film_imdb.find('div', {'class': \"velocity\"}).replace('\\n','').string())\u001b[0m\n\u001b[1;37m    ^\u001b[0m\n\u001b[1;31mSyntaxError\u001b[0m\u001b[1;31m:\u001b[0m invalid syntax\n"
     ]
    }
   ],
   "source": [
    "\n",
    "import pandas as pd\n",
    "titles = []\n",
    "release_years = []\n",
    "ratings  = []\n",
    "\n",
    "for film_imdb in films_imdb:\n",
    "    titles.append(film_imdb.find('font', {'style': 'vertical-align: inherit;'}))\n",
    "    \n",
    "    release_years.append(film_imdb.find('span', {'class': 'secondaryInfo'}).string()\n",
    "    \n",
    "    ratings.append(film_imdb.find('div', {'class': \"velocity\"}).replace('\\n','').string())\n",
    "\n",
    "df_imdb = pd.DataFrame(list(zip(titles, release_years, ratings)), columns=[\"Title\", \"release_years\", \"ratings\"])\n",
    "\n",
    "df_imdb"
   ]
  },
  {
   "cell_type": "code",
   "execution_count": null,
   "id": "11130a9b",
   "metadata": {},
   "outputs": [],
   "source": []
  }
 ],
 "metadata": {
  "kernelspec": {
   "display_name": "Python 3 (ipykernel)",
   "language": "python",
   "name": "python3"
  },
  "language_info": {
   "codemirror_mode": {
    "name": "ipython",
    "version": 3
   },
   "file_extension": ".py",
   "mimetype": "text/x-python",
   "name": "python",
   "nbconvert_exporter": "python",
   "pygments_lexer": "ipython3",
   "version": "3.9.7"
  }
 },
 "nbformat": 4,
 "nbformat_minor": 5
}
